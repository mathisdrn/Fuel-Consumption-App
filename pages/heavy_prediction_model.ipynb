{
 "cells": [
  {
   "cell_type": "code",
   "execution_count": 85,
   "metadata": {},
   "outputs": [],
   "source": [
    "import pandas as pd\n",
    "import numpy as np"
   ]
  },
  {
   "cell_type": "code",
   "execution_count": 86,
   "metadata": {},
   "outputs": [
    {
     "name": "stderr",
     "output_type": "stream",
     "text": [
      "/var/folders/7l/wwrkhf0515x8dl_scksshbc00000gn/T/ipykernel_2294/3978619756.py:9: FutureWarning: The default value of regex will change from True to False in a future version.\n",
      "  df['TRANSMISSION'] = df['TRANSMISSION'].str.replace(r'\\d+$', '')\n"
     ]
    }
   ],
   "source": [
    "df = pd.read_csv('data/fuel_consumption.csv', parse_dates=['YEAR'])\n",
    "# Change Type of fuel to name\n",
    "df['FUEL'] = df['FUEL'].replace({'X': 'Regular gasoline', 'Z': 'Premium gasoline', 'D': 'Diesel', 'E': 'Ethanol (E85)', 'N': 'Natural Gas'})\n",
    "# Extract last caracter of transmission as number of gears\n",
    "# ie. 816 cars have continuous variable transmission and don't have a number of gears\n",
    "df['GEARS'] = df['TRANSMISSION'].str.extract(r'(\\d+)$', expand=False)\n",
    "df['TRANSMISSION'] = df['TRANSMISSION'].str.replace(r'\\d+$', '')\n",
    "df['TRANSMISSION'] = df['TRANSMISSION'].replace({'A': 'Automatic', 'AM': 'Automated manual', 'AS': 'Automatic with select shift', 'AV': 'Continuously variable', 'M': 'Manual'})\n",
    "# Rename FUEL CONSUMPTION to CITY (L/100 km)\n",
    "df = df.drop(columns=['COMB (mpg)'], axis = 1)\n",
    "df = df.rename(columns={'FUEL CONSUMPTION': 'CITY (L/100 km)'})\n",
    "df['MAKE'] = df['MAKE'].str.capitalize()\n",
    "\n",
    "# Uniformize vehicle class\n",
    "df['VEHICLE CLASS'] = df['VEHICLE CLASS'].str.capitalize()\n",
    "df.loc[df['VEHICLE CLASS'].str.contains('Pickup truck'), 'VEHICLE CLASS'] = 'Pickup truck'\n",
    "df.loc[df['VEHICLE CLASS'].str.contains('Station wagon'), 'VEHICLE CLASS'] = 'Station wagon'\n",
    "df.loc[df['VEHICLE CLASS'].str.contains('Suv'), 'VEHICLE CLASS'] = 'SUV'\n",
    "df.loc[df['VEHICLE CLASS'].str.contains('Van'), 'VEHICLE CLASS'] = 'Van'\n",
    "\n",
    "# rename YEAR, VEHICLE CLASS, MAKE, MODEL, ENGINE SIZE, CYLINDERS, TRANSMISSION, FUEL, CITY (L/100 km), HWY (L/100 km), COMB (L/100 km), CO2 EMISSIONS (g/km)\n",
    "df = df.rename(columns={'YEAR': 'Release year', 'GEARS' : 'Gears', 'VEHICLE CLASS': 'Vehicle class', 'MAKE': 'Make', 'MODEL': 'Model', 'ENGINE SIZE': 'Engine size (L)', 'CYLINDERS': 'Cylinders', 'TRANSMISSION': 'Transmission', 'FUEL': 'Fuel', 'CITY (L/100 km)': 'City (L/100 km)', 'COMB (L/100 km)': 'Mixed consumption (L/100 km)', 'HWY (L/100 km)': 'Highway (L/100 km)', 'EMISSIONS': 'CO2 emissions (g/km)'})\n",
    "df['Release year'] = df['Release year'].dt.year\n",
    "# Target - Features\n",
    "X = df[['Make', 'Release year', 'Vehicle class', 'Fuel', 'Transmission', 'Gears', 'Engine size (L)', 'Cylinders']]\n",
    "Y = df[['CO2 emissions (g/km)', 'Mixed consumption (L/100 km)', 'City (L/100 km)', 'Highway (L/100 km)']]"
   ]
  },
  {
   "cell_type": "code",
   "execution_count": 87,
   "metadata": {},
   "outputs": [
    {
     "data": {
      "text/plain": [
       "(22556, 87)"
      ]
     },
     "execution_count": 87,
     "metadata": {},
     "output_type": "execute_result"
    }
   ],
   "source": [
    "from sklearn.pipeline import Pipeline\n",
    "from sklearn.compose import ColumnTransformer\n",
    "from sklearn.preprocessing import OneHotEncoder, StandardScaler\n",
    "\n",
    "numerical = X.select_dtypes(include=['int64', 'float64']).columns.values.tolist()\n",
    "categorical = X.select_dtypes(include=['object']).columns.values.tolist()\n",
    "\n",
    "# Preprocessing\n",
    "\n",
    "preprocessor = ColumnTransformer(\n",
    "transformers = [\n",
    "    ('categorical', OneHotEncoder(handle_unknown='ignore'), categorical),\n",
    "    ('numerical', StandardScaler(), numerical)\n",
    "    ]) \n",
    "\n",
    "# test preprocessing on X\n",
    "preprocessor.fit_transform(X).shape"
   ]
  },
  {
   "cell_type": "code",
   "execution_count": 88,
   "metadata": {},
   "outputs": [],
   "source": [
    "from sklearn.linear_model import Lasso\n",
    "from sklearn.ensemble import RandomForestRegressor\n",
    "from sklearn.tree import DecisionTreeRegressor\n",
    "from sklearn.ensemble import GradientBoostingRegressor\n",
    "from sklearn.model_selection import RandomizedSearchCV\n",
    "from sklearn.multioutput import MultiOutputRegressor\n",
    "from sklearn.decomposition import TruncatedSVD\n",
    "\n",
    "from tempfile import mkdtemp"
   ]
  },
  {
   "cell_type": "code",
   "execution_count": 89,
   "metadata": {},
   "outputs": [],
   "source": [
    "pipelines = []\n",
    "regressors = [Lasso(), RandomForestRegressor(), MultiOutputRegressor(DecisionTreeRegressor()), MultiOutputRegressor(GradientBoostingRegressor())]\n",
    "\n",
    "cachedir = mkdtemp()\n",
    "\n",
    "for regressor in regressors:\n",
    "    pipeline = Pipeline(steps=[\n",
    "        ('preprocessor', preprocessor),\n",
    "        ('svd', TruncatedSVD()),\n",
    "        ('regressor', regressor)]\n",
    "        , memory = cachedir)\n",
    "    pipelines.append(pipeline)"
   ]
  },
  {
   "cell_type": "code",
   "execution_count": 90,
   "metadata": {},
   "outputs": [],
   "source": [
    "# TruncatedSVD\n",
    "param_svd = { \n",
    "    'svd__n_components': [10, 20, 40, 60, 80]\n",
    "}\n",
    "# Lasso\n",
    "lasso_param = {'regressor__alpha': np.logspace(-6, 0, 10) }\n",
    "# RandomForestRegressor\n",
    "RFR_param = {\n",
    "    'regressor__criterion': ['friedman_mse', 'poisson'],\n",
    "    'estimator__max_depth': [2, 3, 5, 10, 20],\n",
    "    'estimator__min_samples_leaf': [5, 10, 20] \n",
    "    }\n",
    "# 'regressor' : MultiOutputRegressor(DecisionTreeRegressor())\n",
    "DTR_param = {\n",
    "    'regressor__estimator__criterion': ['friedman_mse', 'poisson'],\n",
    "    'regressor__estimator__max_depth': [2],\n",
    "    'regressor__estimator__max_depth': [2, 3, 5, 10, 20],\n",
    "    'regressor__estimator__min_samples_leaf': [5, 10, 20]\n",
    "        }\n",
    "# GradientBoostingRegressor\n",
    "GBR_param = {\n",
    "    'regressor__estimator__max_depth': [2, 3, 5, 10, 20, 40], # maximum number of levels allowed in each decision tree\n",
    "    }\n",
    "# Merge dictionnaries with svd params\n",
    "params = [e | param_svd for e in [lasso_param, RFR_param, DTR_param, GBR_param]]\n"
   ]
  },
  {
   "cell_type": "code",
   "execution_count": 91,
   "metadata": {},
   "outputs": [],
   "source": [
    "def describe_model(grid):\n",
    "    display(f'#### {grid.best_estimator_.named_steps[\"regressor\"].__class__.__name__}')\n",
    "    display(f'Best params : {grid.best_params_}')\n",
    "    display(f'Average R2 score : {grid.best_score_:.3f}')"
   ]
  },
  {
   "cell_type": "code",
   "execution_count": 93,
   "metadata": {},
   "outputs": [
    {
     "name": "stdout",
     "output_type": "stream",
     "text": [
      "Fitting 3 folds for each of 3 candidates, totalling 9 fits\n"
     ]
    },
    {
     "name": "stderr",
     "output_type": "stream",
     "text": [
      "/Users/mathisderenne/opt/anaconda3/envs/streamlit/lib/python3.10/site-packages/sklearn/linear_model/_coordinate_descent.py:592: ConvergenceWarning: Objective did not converge. You might want to increase the number of iterations. Duality gap: 771164.2792506944, tolerance: 5383.927644889253\n",
      "  model = cd_fast.sparse_enet_coordinate_descent(\n",
      "/Users/mathisderenne/opt/anaconda3/envs/streamlit/lib/python3.10/site-packages/sklearn/linear_model/_coordinate_descent.py:592: ConvergenceWarning: Objective did not converge. You might want to increase the number of iterations. Duality gap: 809517.8061828585, tolerance: 5171.650669974068\n",
      "  model = cd_fast.sparse_enet_coordinate_descent(\n",
      "/Users/mathisderenne/opt/anaconda3/envs/streamlit/lib/python3.10/site-packages/sklearn/linear_model/_coordinate_descent.py:592: ConvergenceWarning: Objective did not converge. You might want to increase the number of iterations. Duality gap: 718266.548018489, tolerance: 5248.844922542802\n",
      "  model = cd_fast.sparse_enet_coordinate_descent(\n",
      "/Users/mathisderenne/opt/anaconda3/envs/streamlit/lib/python3.10/site-packages/sklearn/linear_model/_coordinate_descent.py:592: ConvergenceWarning: Objective did not converge. You might want to increase the number of iterations. Duality gap: 1342982.4864267483, tolerance: 7946.236631033885\n",
      "  model = cd_fast.sparse_enet_coordinate_descent(\n"
     ]
    },
    {
     "data": {
      "text/plain": [
       "'#### Lasso'"
      ]
     },
     "metadata": {},
     "output_type": "display_data"
    },
    {
     "data": {
      "text/plain": [
       "\"Best params : {'regressor__alpha': 0.0005}\""
      ]
     },
     "metadata": {},
     "output_type": "display_data"
    },
    {
     "data": {
      "text/plain": [
       "'Average R2 score : 0.581'"
      ]
     },
     "metadata": {},
     "output_type": "display_data"
    }
   ],
   "source": [
    "grid = RandomizedSearchCV(pipelines[0], param_distributions = lasso_param, cv = 3, n_iter = 3, scoring = 'r2', verbose = 1, refit = True)\n",
    "grid.fit(X, Y)\n",
    "describe_model(grid)"
   ]
  },
  {
   "cell_type": "code",
   "execution_count": 95,
   "metadata": {},
   "outputs": [
    {
     "name": "stderr",
     "output_type": "stream",
     "text": [
      "/Users/mathisderenne/opt/anaconda3/envs/streamlit/lib/python3.10/site-packages/sklearn/model_selection/_search.py:305: UserWarning: The total space of parameters 2 is smaller than n_iter=3. Running 2 iterations. For exhaustive searches, use GridSearchCV.\n",
      "  warnings.warn(\n"
     ]
    },
    {
     "name": "stdout",
     "output_type": "stream",
     "text": [
      "Fitting 3 folds for each of 2 candidates, totalling 6 fits\n"
     ]
    },
    {
     "data": {
      "text/html": [
       "<style>#sk-container-id-14 {color: black;background-color: white;}#sk-container-id-14 pre{padding: 0;}#sk-container-id-14 div.sk-toggleable {background-color: white;}#sk-container-id-14 label.sk-toggleable__label {cursor: pointer;display: block;width: 100%;margin-bottom: 0;padding: 0.3em;box-sizing: border-box;text-align: center;}#sk-container-id-14 label.sk-toggleable__label-arrow:before {content: \"▸\";float: left;margin-right: 0.25em;color: #696969;}#sk-container-id-14 label.sk-toggleable__label-arrow:hover:before {color: black;}#sk-container-id-14 div.sk-estimator:hover label.sk-toggleable__label-arrow:before {color: black;}#sk-container-id-14 div.sk-toggleable__content {max-height: 0;max-width: 0;overflow: hidden;text-align: left;background-color: #f0f8ff;}#sk-container-id-14 div.sk-toggleable__content pre {margin: 0.2em;color: black;border-radius: 0.25em;background-color: #f0f8ff;}#sk-container-id-14 input.sk-toggleable__control:checked~div.sk-toggleable__content {max-height: 200px;max-width: 100%;overflow: auto;}#sk-container-id-14 input.sk-toggleable__control:checked~label.sk-toggleable__label-arrow:before {content: \"▾\";}#sk-container-id-14 div.sk-estimator input.sk-toggleable__control:checked~label.sk-toggleable__label {background-color: #d4ebff;}#sk-container-id-14 div.sk-label input.sk-toggleable__control:checked~label.sk-toggleable__label {background-color: #d4ebff;}#sk-container-id-14 input.sk-hidden--visually {border: 0;clip: rect(1px 1px 1px 1px);clip: rect(1px, 1px, 1px, 1px);height: 1px;margin: -1px;overflow: hidden;padding: 0;position: absolute;width: 1px;}#sk-container-id-14 div.sk-estimator {font-family: monospace;background-color: #f0f8ff;border: 1px dotted black;border-radius: 0.25em;box-sizing: border-box;margin-bottom: 0.5em;}#sk-container-id-14 div.sk-estimator:hover {background-color: #d4ebff;}#sk-container-id-14 div.sk-parallel-item::after {content: \"\";width: 100%;border-bottom: 1px solid gray;flex-grow: 1;}#sk-container-id-14 div.sk-label:hover label.sk-toggleable__label {background-color: #d4ebff;}#sk-container-id-14 div.sk-serial::before {content: \"\";position: absolute;border-left: 1px solid gray;box-sizing: border-box;top: 0;bottom: 0;left: 50%;z-index: 0;}#sk-container-id-14 div.sk-serial {display: flex;flex-direction: column;align-items: center;background-color: white;padding-right: 0.2em;padding-left: 0.2em;position: relative;}#sk-container-id-14 div.sk-item {position: relative;z-index: 1;}#sk-container-id-14 div.sk-parallel {display: flex;align-items: stretch;justify-content: center;background-color: white;position: relative;}#sk-container-id-14 div.sk-item::before, #sk-container-id-14 div.sk-parallel-item::before {content: \"\";position: absolute;border-left: 1px solid gray;box-sizing: border-box;top: 0;bottom: 0;left: 50%;z-index: -1;}#sk-container-id-14 div.sk-parallel-item {display: flex;flex-direction: column;z-index: 1;position: relative;background-color: white;}#sk-container-id-14 div.sk-parallel-item:first-child::after {align-self: flex-end;width: 50%;}#sk-container-id-14 div.sk-parallel-item:last-child::after {align-self: flex-start;width: 50%;}#sk-container-id-14 div.sk-parallel-item:only-child::after {width: 0;}#sk-container-id-14 div.sk-dashed-wrapped {border: 1px dashed gray;margin: 0 0.4em 0.5em 0.4em;box-sizing: border-box;padding-bottom: 0.4em;background-color: white;}#sk-container-id-14 div.sk-label label {font-family: monospace;font-weight: bold;display: inline-block;line-height: 1.2em;}#sk-container-id-14 div.sk-label-container {text-align: center;}#sk-container-id-14 div.sk-container {/* jupyter's `normalize.less` sets `[hidden] { display: none; }` but bootstrap.min.css set `[hidden] { display: none !important; }` so we also need the `!important` here to be able to override the default hidden behavior on the sphinx rendered scikit-learn.org. See: https://github.com/scikit-learn/scikit-learn/issues/21755 */display: inline-block !important;position: relative;}#sk-container-id-14 div.sk-text-repr-fallback {display: none;}</style><div id=\"sk-container-id-14\" class=\"sk-top-container\"><div class=\"sk-text-repr-fallback\"><pre>RandomizedSearchCV(cv=3,\n",
       "                   estimator=MultiOutputRegressor(estimator=Pipeline(memory=&#x27;/var/folders/7l/wwrkhf0515x8dl_scksshbc00000gn/T/tmpeoc9_ny7&#x27;,\n",
       "                                                                     steps=[(&#x27;preprocessor&#x27;,\n",
       "                                                                             ColumnTransformer(transformers=[(&#x27;categorical&#x27;,\n",
       "                                                                                                              OneHotEncoder(handle_unknown=&#x27;ignore&#x27;),\n",
       "                                                                                                              [&#x27;Make&#x27;,\n",
       "                                                                                                               &#x27;Vehicle &#x27;\n",
       "                                                                                                               &#x27;class&#x27;,\n",
       "                                                                                                               &#x27;Fuel&#x27;,\n",
       "                                                                                                               &#x27;Transmission&#x27;,\n",
       "                                                                                                               &#x27;Gears&#x27;]),\n",
       "                                                                                                             (&#x27;numerical&#x27;,\n",
       "                                                                                                              StandardScaler(),\n",
       "                                                                                                              [&#x27;Release &#x27;\n",
       "                                                                                                               &#x27;year&#x27;,\n",
       "                                                                                                               &#x27;Engine &#x27;\n",
       "                                                                                                               &#x27;size &#x27;\n",
       "                                                                                                               &#x27;(L)&#x27;,\n",
       "                                                                                                               &#x27;Cylinders&#x27;])])),\n",
       "                                                                            (&#x27;regressor&#x27;,\n",
       "                                                                             RandomForestRegressor())])),\n",
       "                   n_iter=3,\n",
       "                   param_distributions={&#x27;estimator__regressor__criterion&#x27;: [&#x27;friedman_mse&#x27;,\n",
       "                                                                            &#x27;poisson&#x27;]},\n",
       "                   scoring=&#x27;r2&#x27;, verbose=1)</pre><b>In a Jupyter environment, please rerun this cell to show the HTML representation or trust the notebook. <br />On GitHub, the HTML representation is unable to render, please try loading this page with nbviewer.org.</b></div><div class=\"sk-container\" hidden><div class=\"sk-item sk-dashed-wrapped\"><div class=\"sk-label-container\"><div class=\"sk-label sk-toggleable\"><input class=\"sk-toggleable__control sk-hidden--visually\" id=\"sk-estimator-id-104\" type=\"checkbox\" ><label for=\"sk-estimator-id-104\" class=\"sk-toggleable__label sk-toggleable__label-arrow\">RandomizedSearchCV</label><div class=\"sk-toggleable__content\"><pre>RandomizedSearchCV(cv=3,\n",
       "                   estimator=MultiOutputRegressor(estimator=Pipeline(memory=&#x27;/var/folders/7l/wwrkhf0515x8dl_scksshbc00000gn/T/tmpeoc9_ny7&#x27;,\n",
       "                                                                     steps=[(&#x27;preprocessor&#x27;,\n",
       "                                                                             ColumnTransformer(transformers=[(&#x27;categorical&#x27;,\n",
       "                                                                                                              OneHotEncoder(handle_unknown=&#x27;ignore&#x27;),\n",
       "                                                                                                              [&#x27;Make&#x27;,\n",
       "                                                                                                               &#x27;Vehicle &#x27;\n",
       "                                                                                                               &#x27;class&#x27;,\n",
       "                                                                                                               &#x27;Fuel&#x27;,\n",
       "                                                                                                               &#x27;Transmission&#x27;,\n",
       "                                                                                                               &#x27;Gears&#x27;]),\n",
       "                                                                                                             (&#x27;numerical&#x27;,\n",
       "                                                                                                              StandardScaler(),\n",
       "                                                                                                              [&#x27;Release &#x27;\n",
       "                                                                                                               &#x27;year&#x27;,\n",
       "                                                                                                               &#x27;Engine &#x27;\n",
       "                                                                                                               &#x27;size &#x27;\n",
       "                                                                                                               &#x27;(L)&#x27;,\n",
       "                                                                                                               &#x27;Cylinders&#x27;])])),\n",
       "                                                                            (&#x27;regressor&#x27;,\n",
       "                                                                             RandomForestRegressor())])),\n",
       "                   n_iter=3,\n",
       "                   param_distributions={&#x27;estimator__regressor__criterion&#x27;: [&#x27;friedman_mse&#x27;,\n",
       "                                                                            &#x27;poisson&#x27;]},\n",
       "                   scoring=&#x27;r2&#x27;, verbose=1)</pre></div></div></div><div class=\"sk-parallel\"><div class=\"sk-parallel-item\"><div class=\"sk-item\"><div class=\"sk-label-container\"><div class=\"sk-label sk-toggleable\"><input class=\"sk-toggleable__control sk-hidden--visually\" id=\"sk-estimator-id-105\" type=\"checkbox\" ><label for=\"sk-estimator-id-105\" class=\"sk-toggleable__label sk-toggleable__label-arrow\">estimator: MultiOutputRegressor</label><div class=\"sk-toggleable__content\"><pre>MultiOutputRegressor(estimator=Pipeline(memory=&#x27;/var/folders/7l/wwrkhf0515x8dl_scksshbc00000gn/T/tmpeoc9_ny7&#x27;,\n",
       "                                        steps=[(&#x27;preprocessor&#x27;,\n",
       "                                                ColumnTransformer(transformers=[(&#x27;categorical&#x27;,\n",
       "                                                                                 OneHotEncoder(handle_unknown=&#x27;ignore&#x27;),\n",
       "                                                                                 [&#x27;Make&#x27;,\n",
       "                                                                                  &#x27;Vehicle &#x27;\n",
       "                                                                                  &#x27;class&#x27;,\n",
       "                                                                                  &#x27;Fuel&#x27;,\n",
       "                                                                                  &#x27;Transmission&#x27;,\n",
       "                                                                                  &#x27;Gears&#x27;]),\n",
       "                                                                                (&#x27;numerical&#x27;,\n",
       "                                                                                 StandardScaler(),\n",
       "                                                                                 [&#x27;Release &#x27;\n",
       "                                                                                  &#x27;year&#x27;,\n",
       "                                                                                  &#x27;Engine &#x27;\n",
       "                                                                                  &#x27;size &#x27;\n",
       "                                                                                  &#x27;(L)&#x27;,\n",
       "                                                                                  &#x27;Cylinders&#x27;])])),\n",
       "                                               (&#x27;regressor&#x27;,\n",
       "                                                RandomForestRegressor())]))</pre></div></div></div><div class=\"sk-serial\"><div class=\"sk-item sk-dashed-wrapped\"><div class=\"sk-parallel\"><div class=\"sk-parallel-item\"><div class=\"sk-item\"><div class=\"sk-label-container\"><div class=\"sk-label sk-toggleable\"><input class=\"sk-toggleable__control sk-hidden--visually\" id=\"sk-estimator-id-106\" type=\"checkbox\" ><label for=\"sk-estimator-id-106\" class=\"sk-toggleable__label sk-toggleable__label-arrow\">estimator: Pipeline</label><div class=\"sk-toggleable__content\"><pre>Pipeline(memory=&#x27;/var/folders/7l/wwrkhf0515x8dl_scksshbc00000gn/T/tmpeoc9_ny7&#x27;,\n",
       "         steps=[(&#x27;preprocessor&#x27;,\n",
       "                 ColumnTransformer(transformers=[(&#x27;categorical&#x27;,\n",
       "                                                  OneHotEncoder(handle_unknown=&#x27;ignore&#x27;),\n",
       "                                                  [&#x27;Make&#x27;, &#x27;Vehicle class&#x27;,\n",
       "                                                   &#x27;Fuel&#x27;, &#x27;Transmission&#x27;,\n",
       "                                                   &#x27;Gears&#x27;]),\n",
       "                                                 (&#x27;numerical&#x27;, StandardScaler(),\n",
       "                                                  [&#x27;Release year&#x27;,\n",
       "                                                   &#x27;Engine size (L)&#x27;,\n",
       "                                                   &#x27;Cylinders&#x27;])])),\n",
       "                (&#x27;regressor&#x27;, RandomForestRegressor())])</pre></div></div></div><div class=\"sk-serial\"><div class=\"sk-item\"><div class=\"sk-serial\"><div class=\"sk-item sk-dashed-wrapped\"><div class=\"sk-label-container\"><div class=\"sk-label sk-toggleable\"><input class=\"sk-toggleable__control sk-hidden--visually\" id=\"sk-estimator-id-107\" type=\"checkbox\" ><label for=\"sk-estimator-id-107\" class=\"sk-toggleable__label sk-toggleable__label-arrow\">preprocessor: ColumnTransformer</label><div class=\"sk-toggleable__content\"><pre>ColumnTransformer(transformers=[(&#x27;categorical&#x27;,\n",
       "                                 OneHotEncoder(handle_unknown=&#x27;ignore&#x27;),\n",
       "                                 [&#x27;Make&#x27;, &#x27;Vehicle class&#x27;, &#x27;Fuel&#x27;,\n",
       "                                  &#x27;Transmission&#x27;, &#x27;Gears&#x27;]),\n",
       "                                (&#x27;numerical&#x27;, StandardScaler(),\n",
       "                                 [&#x27;Release year&#x27;, &#x27;Engine size (L)&#x27;,\n",
       "                                  &#x27;Cylinders&#x27;])])</pre></div></div></div><div class=\"sk-parallel\"><div class=\"sk-parallel-item\"><div class=\"sk-item\"><div class=\"sk-label-container\"><div class=\"sk-label sk-toggleable\"><input class=\"sk-toggleable__control sk-hidden--visually\" id=\"sk-estimator-id-108\" type=\"checkbox\" ><label for=\"sk-estimator-id-108\" class=\"sk-toggleable__label sk-toggleable__label-arrow\">categorical</label><div class=\"sk-toggleable__content\"><pre>[&#x27;Make&#x27;, &#x27;Vehicle class&#x27;, &#x27;Fuel&#x27;, &#x27;Transmission&#x27;, &#x27;Gears&#x27;]</pre></div></div></div><div class=\"sk-serial\"><div class=\"sk-item\"><div class=\"sk-estimator sk-toggleable\"><input class=\"sk-toggleable__control sk-hidden--visually\" id=\"sk-estimator-id-109\" type=\"checkbox\" ><label for=\"sk-estimator-id-109\" class=\"sk-toggleable__label sk-toggleable__label-arrow\">OneHotEncoder</label><div class=\"sk-toggleable__content\"><pre>OneHotEncoder(handle_unknown=&#x27;ignore&#x27;)</pre></div></div></div></div></div></div><div class=\"sk-parallel-item\"><div class=\"sk-item\"><div class=\"sk-label-container\"><div class=\"sk-label sk-toggleable\"><input class=\"sk-toggleable__control sk-hidden--visually\" id=\"sk-estimator-id-110\" type=\"checkbox\" ><label for=\"sk-estimator-id-110\" class=\"sk-toggleable__label sk-toggleable__label-arrow\">numerical</label><div class=\"sk-toggleable__content\"><pre>[&#x27;Release year&#x27;, &#x27;Engine size (L)&#x27;, &#x27;Cylinders&#x27;]</pre></div></div></div><div class=\"sk-serial\"><div class=\"sk-item\"><div class=\"sk-estimator sk-toggleable\"><input class=\"sk-toggleable__control sk-hidden--visually\" id=\"sk-estimator-id-111\" type=\"checkbox\" ><label for=\"sk-estimator-id-111\" class=\"sk-toggleable__label sk-toggleable__label-arrow\">StandardScaler</label><div class=\"sk-toggleable__content\"><pre>StandardScaler()</pre></div></div></div></div></div></div></div></div><div class=\"sk-item\"><div class=\"sk-estimator sk-toggleable\"><input class=\"sk-toggleable__control sk-hidden--visually\" id=\"sk-estimator-id-112\" type=\"checkbox\" ><label for=\"sk-estimator-id-112\" class=\"sk-toggleable__label sk-toggleable__label-arrow\">RandomForestRegressor</label><div class=\"sk-toggleable__content\"><pre>RandomForestRegressor()</pre></div></div></div></div></div></div></div></div></div></div></div></div></div></div></div></div></div>"
      ],
      "text/plain": [
       "RandomizedSearchCV(cv=3,\n",
       "                   estimator=MultiOutputRegressor(estimator=Pipeline(memory='/var/folders/7l/wwrkhf0515x8dl_scksshbc00000gn/T/tmpeoc9_ny7',\n",
       "                                                                     steps=[('preprocessor',\n",
       "                                                                             ColumnTransformer(transformers=[('categorical',\n",
       "                                                                                                              OneHotEncoder(handle_unknown='ignore'),\n",
       "                                                                                                              ['Make',\n",
       "                                                                                                               'Vehicle '\n",
       "                                                                                                               'class',\n",
       "                                                                                                               'Fuel',\n",
       "                                                                                                               'Transmission',\n",
       "                                                                                                               'Gears']),\n",
       "                                                                                                             ('numerical',\n",
       "                                                                                                              StandardScaler(),\n",
       "                                                                                                              ['Release '\n",
       "                                                                                                               'year',\n",
       "                                                                                                               'Engine '\n",
       "                                                                                                               'size '\n",
       "                                                                                                               '(L)',\n",
       "                                                                                                               'Cylinders'])])),\n",
       "                                                                            ('regressor',\n",
       "                                                                             RandomForestRegressor())])),\n",
       "                   n_iter=3,\n",
       "                   param_distributions={'estimator__regressor__criterion': ['friedman_mse',\n",
       "                                                                            'poisson']},\n",
       "                   scoring='r2', verbose=1)"
      ]
     },
     "execution_count": 95,
     "metadata": {},
     "output_type": "execute_result"
    }
   ],
   "source": [
    "grid = RandomizedSearchCV(MultiOutputRegressor(pipelines[1]), param_distributions = RFR_param, cv = 3, n_iter = 3, scoring = 'r2', verbose = 1, refit = True)\n",
    "grid.fit(X, Y)\n",
    "describe_model(grid)"
   ]
  },
  {
   "cell_type": "code",
   "execution_count": 97,
   "metadata": {},
   "outputs": [],
   "source": [
    "# models = []\n",
    "# for i, (pipeline, param) in enumerate(zip(pipelines, params)):\n",
    "#     display(f'Running pipeline {i+1}/{len(pipelines)} with {pipeline.named_steps[\"regressor\"]}')\n",
    "#     # Use RandomizedSearchCV to find the best parameters\n",
    "#     grid = RandomizedSearchCV(pipeline, param_distributions = param, cv = 3, n_iter = 3, scoring = 'r2', verbose = 1, refit = True)\n",
    "#     # Transform X and Y to array before fitting\n",
    "#     grid.fit(X, Y)\n",
    "#     models.append(grid)\n",
    "#     describe_model(grid)"
   ]
  }
 ],
 "metadata": {
  "kernelspec": {
   "display_name": "streamlit",
   "language": "python",
   "name": "python3"
  },
  "language_info": {
   "codemirror_mode": {
    "name": "ipython",
    "version": 3
   },
   "file_extension": ".py",
   "mimetype": "text/x-python",
   "name": "python",
   "nbconvert_exporter": "python",
   "pygments_lexer": "ipython3",
   "version": "3.10.9"
  },
  "orig_nbformat": 4,
  "vscode": {
   "interpreter": {
    "hash": "f433cee6efbc47c6089c6c5913bf9f9acbafe890209a746bcd45e5a156a481f3"
   }
  }
 },
 "nbformat": 4,
 "nbformat_minor": 2
}
