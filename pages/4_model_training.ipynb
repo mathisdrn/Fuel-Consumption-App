{
 "cells": [
  {
   "cell_type": "code",
   "execution_count": 3,
   "metadata": {},
   "outputs": [],
   "source": [
    "import pandas as pd\n",
    "import numpy as np\n",
    "\n",
    "from pathlib import Path\n",
    "import sys\n",
    "import os\n",
    "\n",
    "sys.path.append(os.path.abspath(os.path.join('..')))"
   ]
  },
  {
   "cell_type": "code",
   "execution_count": 4,
   "metadata": {},
   "outputs": [
    {
     "name": "stderr",
     "output_type": "stream",
     "text": [
      "2025-01-24 02:57:49.362 WARNING streamlit.runtime.caching.cache_data_api: No runtime found, using MemoryCacheStorageManager\n",
      "2025-01-24 02:57:49.374 WARNING streamlit.runtime.scriptrunner_utils.script_run_context: Thread 'MainThread': missing ScriptRunContext! This warning can be ignored when running in bare mode.\n",
      "2025-01-24 02:57:49.421 \n",
      "  \u001b[33m\u001b[1mWarning:\u001b[0m to view this Streamlit app on a browser, run it with the following\n",
      "  command:\n",
      "\n",
      "    streamlit run /Users/mathisderenne/GitHub/Fuel-Consumption-App/.venv/lib/python3.12/site-packages/ipykernel_launcher.py [ARGUMENTS]\n",
      "2025-01-24 02:57:49.422 Thread 'MainThread': missing ScriptRunContext! This warning can be ignored when running in bare mode.\n",
      "2025-01-24 02:57:49.422 Thread 'MainThread': missing ScriptRunContext! This warning can be ignored when running in bare mode.\n",
      "2025-01-24 02:57:49.501 Thread 'MainThread': missing ScriptRunContext! This warning can be ignored when running in bare mode.\n",
      "2025-01-24 02:57:49.502 Thread 'MainThread': missing ScriptRunContext! This warning can be ignored when running in bare mode.\n"
     ]
    }
   ],
   "source": [
    "from utils import load_car_data\n",
    "\n",
    "df = load_car_data(Path('../data/fuel_consumption.csv'))\n",
    "\n",
    "features = ['make', 'release_year', 'vehicle_class', 'fuel_type', 'transmission_type', 'gears', 'engine_size', 'cylinders']\n",
    "numerical_features = ['release_year', 'gears', 'engine_size', 'cylinders']\n",
    "categorical_features = ['make', 'vehicle_class', 'fuel_type', 'transmission_type']\n",
    "\n",
    "targets = ['emissions', 'fc_mixed', 'fc_city', 'fc_highway']\n",
    "\n",
    "X = df[features]\n",
    "Y = df[targets]"
   ]
  },
  {
   "cell_type": "markdown",
   "metadata": {},
   "source": [
    "### Model definition"
   ]
  },
  {
   "cell_type": "code",
   "execution_count": 5,
   "metadata": {},
   "outputs": [],
   "source": [
    "from sklearn.pipeline import Pipeline\n",
    "from sklearn.compose import ColumnTransformer\n",
    "from sklearn.preprocessing import OneHotEncoder, StandardScaler\n",
    "from sklearn.impute import SimpleImputer\n",
    "from sklearn.linear_model import Lasso\n",
    "\n",
    "preprocessor = ColumnTransformer(\n",
    "    transformers=[\n",
    "        ('categorical', OneHotEncoder(handle_unknown='ignore'), categorical_features),\n",
    "        ('numerical', Pipeline(steps=[\n",
    "            ('imputer', SimpleImputer(strategy='mean')),\n",
    "            ('scaler', StandardScaler())\n",
    "        ]), numerical_features)\n",
    "    ])\n",
    "\n",
    "pipeline = Pipeline(steps=[\n",
    "    ('preprocessor', preprocessor),\n",
    "    ('regressor', Lasso(max_iter=10000))\n",
    "])\n",
    "\n",
    "param = {\n",
    "    'regressor__alpha': np.logspace(-4, 4, 5)\n",
    "}"
   ]
  },
  {
   "cell_type": "code",
   "execution_count": 6,
   "metadata": {},
   "outputs": [
    {
     "name": "stderr",
     "output_type": "stream",
     "text": [
      "/Users/mathisderenne/GitHub/Fuel-Consumption-App/.venv/lib/python3.12/site-packages/sklearn/linear_model/_coordinate_descent.py:656: ConvergenceWarning: Objective did not converge. You might want to increase the number of iterations. Duality gap: 107980.81709404662, tolerance: 6285.037067451782\n",
      "  model = cd_fast.sparse_enet_coordinate_descent(\n",
      "/Users/mathisderenne/GitHub/Fuel-Consumption-App/.venv/lib/python3.12/site-packages/sklearn/linear_model/_coordinate_descent.py:656: ConvergenceWarning: Objective did not converge. You might want to increase the number of iterations. Duality gap: 998960.1501836069, tolerance: 6209.437799002492\n",
      "  model = cd_fast.sparse_enet_coordinate_descent(\n",
      "/Users/mathisderenne/GitHub/Fuel-Consumption-App/.venv/lib/python3.12/site-packages/sklearn/linear_model/_coordinate_descent.py:656: ConvergenceWarning: Objective did not converge. You might want to increase the number of iterations. Duality gap: 1111006.7056265408, tolerance: 6387.928191166539\n",
      "  model = cd_fast.sparse_enet_coordinate_descent(\n",
      "/Users/mathisderenne/GitHub/Fuel-Consumption-App/.venv/lib/python3.12/site-packages/sklearn/linear_model/_coordinate_descent.py:656: ConvergenceWarning: Objective did not converge. You might want to increase the number of iterations. Duality gap: 113661.85153151304, tolerance: 6595.572975871421\n",
      "  model = cd_fast.sparse_enet_coordinate_descent(\n",
      "/Users/mathisderenne/GitHub/Fuel-Consumption-App/.venv/lib/python3.12/site-packages/sklearn/linear_model/_coordinate_descent.py:656: ConvergenceWarning: Objective did not converge. You might want to increase the number of iterations. Duality gap: 1037749.7584342547, tolerance: 6262.127062421728\n",
      "  model = cd_fast.sparse_enet_coordinate_descent(\n",
      "/Users/mathisderenne/GitHub/Fuel-Consumption-App/.venv/lib/python3.12/site-packages/sklearn/linear_model/_coordinate_descent.py:656: ConvergenceWarning: Objective did not converge. You might want to increase the number of iterations. Duality gap: 134943.78272037208, tolerance: 7946.236631033874\n",
      "  model = cd_fast.sparse_enet_coordinate_descent(\n"
     ]
    },
    {
     "name": "stdout",
     "output_type": "stream",
     "text": [
      "Best parameters : {'regressor__alpha': 0.0001}\n",
      "Best score : 0.77\n"
     ]
    }
   ],
   "source": [
    "from sklearn.model_selection import GridSearchCV\n",
    "\n",
    "grid = GridSearchCV(pipeline, param, cv=5, n_jobs=-1, refit = True)\n",
    "grid.fit(X, Y)\n",
    "\n",
    "print(f\"Best parameters : {grid.best_params_}\")\n",
    "print(f\"Best score : {grid.best_score_:0.2f}\")"
   ]
  },
  {
   "cell_type": "markdown",
   "metadata": {},
   "source": [
    "### Save model"
   ]
  },
  {
   "cell_type": "code",
   "execution_count": 7,
   "metadata": {},
   "outputs": [
    {
     "data": {
      "text/plain": [
       "['../data/lasso_regression.pkl']"
      ]
     },
     "execution_count": 7,
     "metadata": {},
     "output_type": "execute_result"
    }
   ],
   "source": [
    "import joblib\n",
    "\n",
    "joblib.dump(grid.best_estimator_, '../data/lasso_regression.pkl')"
   ]
  }
 ],
 "metadata": {
  "kernelspec": {
   "display_name": ".venv",
   "language": "python",
   "name": "python3"
  },
  "language_info": {
   "codemirror_mode": {
    "name": "ipython",
    "version": 3
   },
   "file_extension": ".py",
   "mimetype": "text/x-python",
   "name": "python",
   "nbconvert_exporter": "python",
   "pygments_lexer": "ipython3",
   "version": "3.12.8"
  },
  "orig_nbformat": 4
 },
 "nbformat": 4,
 "nbformat_minor": 2
}
