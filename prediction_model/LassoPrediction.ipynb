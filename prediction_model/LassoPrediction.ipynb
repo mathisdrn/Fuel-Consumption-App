{
 "cells": [
  {
   "cell_type": "code",
   "execution_count": 4,
   "metadata": {},
   "outputs": [],
   "source": [
    "import pandas as pd\n",
    "import numpy as np"
   ]
  },
  {
   "cell_type": "code",
   "execution_count": 5,
   "metadata": {},
   "outputs": [
    {
     "name": "stderr",
     "output_type": "stream",
     "text": [
      "/var/folders/7l/wwrkhf0515x8dl_scksshbc00000gn/T/ipykernel_24274/2577772231.py:7: FutureWarning: The default value of regex will change from True to False in a future version.\n",
      "  df['TRANSMISSION'] = df['TRANSMISSION'].str.replace(r'\\d+$', '')\n"
     ]
    }
   ],
   "source": [
    "df = pd.read_csv('../data/fuel_consumption.csv', parse_dates=['YEAR'])\n",
    "# Change Type of fuel to name\n",
    "df['FUEL'] = df['FUEL'].replace({'X': 'Regular gasoline', 'Z': 'Premium gasoline', 'D': 'Diesel', 'E': 'Ethanol (E85)', 'N': 'Natural Gas'})\n",
    "# Extract last caracter of transmission as number of gears\n",
    "# ie. 816 cars have continuous variable transmission and don't have a number of gears\n",
    "df['GEARS'] = df['TRANSMISSION'].str.extract(r'(\\d+)$', expand=False)\n",
    "df['TRANSMISSION'] = df['TRANSMISSION'].str.replace(r'\\d+$', '')\n",
    "df['TRANSMISSION'] = df['TRANSMISSION'].replace({'A': 'Automatic', 'AM': 'Automated manual', 'AS': 'Automatic with select shift', 'AV': 'Continuously variable', 'M': 'Manual'})\n",
    "# Rename FUEL CONSUMPTION to CITY (L/100 km)\n",
    "df = df.drop(columns=['COMB (mpg)'], axis = 1)\n",
    "df = df.rename(columns={'FUEL CONSUMPTION': 'CITY (L/100 km)'})\n",
    "df['MAKE'] = df['MAKE'].str.capitalize()\n",
    "\n",
    "# Uniformize vehicle class\n",
    "df['VEHICLE CLASS'] = df['VEHICLE CLASS'].str.capitalize()\n",
    "df.loc[df['VEHICLE CLASS'].str.contains('Pickup truck'), 'VEHICLE CLASS'] = 'Pickup truck'\n",
    "df.loc[df['VEHICLE CLASS'].str.contains('Station wagon'), 'VEHICLE CLASS'] = 'Station wagon'\n",
    "df.loc[df['VEHICLE CLASS'].str.contains('Suv'), 'VEHICLE CLASS'] = 'SUV'\n",
    "df.loc[df['VEHICLE CLASS'].str.contains('Van'), 'VEHICLE CLASS'] = 'Van'\n",
    "\n",
    "# rename YEAR, VEHICLE CLASS, MAKE, MODEL, ENGINE SIZE, CYLINDERS, TRANSMISSION, FUEL, CITY (L/100 km), HWY (L/100 km), COMB (L/100 km), CO2 EMISSIONS (g/km)\n",
    "df = df.rename(columns={'YEAR': 'Release year', 'GEARS' : 'Gears', 'VEHICLE CLASS': 'Vehicle class', 'MAKE': 'Make', 'MODEL': 'Model', 'ENGINE SIZE': 'Engine size (L)', 'CYLINDERS': 'Cylinders', 'TRANSMISSION': 'Transmission', 'FUEL': 'Fuel', 'CITY (L/100 km)': 'City (L/100 km)', 'COMB (L/100 km)': 'Mixed consumption (L/100 km)', 'HWY (L/100 km)': 'Highway (L/100 km)', 'EMISSIONS': 'CO2 emissions (g/km)'})\n",
    "df['Release year'] = df['Release year'].dt.year\n",
    "# Target - Features\n",
    "X = df[['Make', 'Release year', 'Vehicle class', 'Fuel', 'Transmission', 'Gears', 'Engine size (L)', 'Cylinders']]\n",
    "Y = df[['CO2 emissions (g/km)', 'Mixed consumption (L/100 km)', 'City (L/100 km)', 'Highway (L/100 km)']]"
   ]
  },
  {
   "cell_type": "code",
   "execution_count": 6,
   "metadata": {},
   "outputs": [],
   "source": [
    "from sklearn.pipeline import Pipeline\n",
    "from sklearn.compose import ColumnTransformer\n",
    "from sklearn.preprocessing import OneHotEncoder, StandardScaler\n",
    "\n",
    "numerical = X.select_dtypes(include=['int64', 'float64']).columns.values.tolist()\n",
    "categorical = X.select_dtypes(include=['object']).columns.values.tolist()\n",
    "\n",
    "# Preprocessing\n",
    "\n",
    "preprocessor = ColumnTransformer(\n",
    "transformers = [\n",
    "    ('categorical', OneHotEncoder(handle_unknown='ignore'), categorical),\n",
    "    ('numerical', StandardScaler(), numerical)\n",
    "    ])"
   ]
  },
  {
   "cell_type": "code",
   "execution_count": 7,
   "metadata": {},
   "outputs": [],
   "source": [
    "from sklearn.linear_model import Lasso\n",
    "from tempfile import mkdtemp\n",
    "cachedir = mkdtemp()\n",
    "\n",
    "pipeline = Pipeline(steps=[\n",
    "        ('preprocessor', preprocessor),\n",
    "        ('lasso', Lasso(max_iter = 10000))]\n",
    "        )\n",
    "\n",
    "# Linear regression\n",
    "param = {\n",
    "    'lasso__alpha': np.geomspace(0.000001, 1, 10),\n",
    "}"
   ]
  },
  {
   "cell_type": "code",
   "execution_count": 8,
   "metadata": {},
   "outputs": [
    {
     "name": "stdout",
     "output_type": "stream",
     "text": [
      "Fitting 5 folds for each of 10 candidates, totalling 50 fits\n"
     ]
    },
    {
     "name": "stderr",
     "output_type": "stream",
     "text": [
      "/Users/mathisderenne/opt/anaconda3/envs/streamlit/lib/python3.10/site-packages/sklearn/linear_model/_coordinate_descent.py:592: ConvergenceWarning: Objective did not converge. You might want to increase the number of iterations. Duality gap: 1490338.8499294966, tolerance: 6285.037067451805\n",
      "  model = cd_fast.sparse_enet_coordinate_descent(\n",
      "/Users/mathisderenne/opt/anaconda3/envs/streamlit/lib/python3.10/site-packages/sklearn/linear_model/_coordinate_descent.py:592: ConvergenceWarning: Objective did not converge. You might want to increase the number of iterations. Duality gap: 975775.0643792879, tolerance: 6285.037067451805\n",
      "  model = cd_fast.sparse_enet_coordinate_descent(\n",
      "/Users/mathisderenne/opt/anaconda3/envs/streamlit/lib/python3.10/site-packages/sklearn/linear_model/_coordinate_descent.py:592: ConvergenceWarning: Objective did not converge. You might want to increase the number of iterations. Duality gap: 2839200.4668207066, tolerance: 6595.5729758714715\n",
      "  model = cd_fast.sparse_enet_coordinate_descent(\n",
      "/Users/mathisderenne/opt/anaconda3/envs/streamlit/lib/python3.10/site-packages/sklearn/linear_model/_coordinate_descent.py:592: ConvergenceWarning: Objective did not converge. You might want to increase the number of iterations. Duality gap: 2687879.2847292656, tolerance: 6387.928191166499\n",
      "  model = cd_fast.sparse_enet_coordinate_descent(\n",
      "/Users/mathisderenne/opt/anaconda3/envs/streamlit/lib/python3.10/site-packages/sklearn/linear_model/_coordinate_descent.py:592: ConvergenceWarning: Objective did not converge. You might want to increase the number of iterations. Duality gap: 2564618.8656561933, tolerance: 6262.1270624217\n",
      "  model = cd_fast.sparse_enet_coordinate_descent(\n",
      "/Users/mathisderenne/opt/anaconda3/envs/streamlit/lib/python3.10/site-packages/sklearn/linear_model/_coordinate_descent.py:592: ConvergenceWarning: Objective did not converge. You might want to increase the number of iterations. Duality gap: 2564682.7029230366, tolerance: 6262.1270624217\n",
      "  model = cd_fast.sparse_enet_coordinate_descent(\n",
      "/Users/mathisderenne/opt/anaconda3/envs/streamlit/lib/python3.10/site-packages/sklearn/linear_model/_coordinate_descent.py:592: ConvergenceWarning: Objective did not converge. You might want to increase the number of iterations. Duality gap: 2534053.4677195814, tolerance: 6209.4377990025005\n",
      "  model = cd_fast.sparse_enet_coordinate_descent(\n",
      "/Users/mathisderenne/opt/anaconda3/envs/streamlit/lib/python3.10/site-packages/sklearn/linear_model/_coordinate_descent.py:592: ConvergenceWarning: Objective did not converge. You might want to increase the number of iterations. Duality gap: 2839136.142953853, tolerance: 6595.5729758714715\n",
      "  model = cd_fast.sparse_enet_coordinate_descent(\n",
      "/Users/mathisderenne/opt/anaconda3/envs/streamlit/lib/python3.10/site-packages/sklearn/linear_model/_coordinate_descent.py:592: ConvergenceWarning: Objective did not converge. You might want to increase the number of iterations. Duality gap: 458.4404668703319, tolerance: 15.459619609565626\n",
      "  model = cd_fast.sparse_enet_coordinate_descent(\n",
      "/Users/mathisderenne/opt/anaconda3/envs/streamlit/lib/python3.10/site-packages/sklearn/linear_model/_coordinate_descent.py:592: ConvergenceWarning: Objective did not converge. You might want to increase the number of iterations. Duality gap: 1284.9641050147093, tolerance: 15.459619609565626\n",
      "  model = cd_fast.sparse_enet_coordinate_descent(\n",
      "/Users/mathisderenne/opt/anaconda3/envs/streamlit/lib/python3.10/site-packages/sklearn/linear_model/_coordinate_descent.py:592: ConvergenceWarning: Objective did not converge. You might want to increase the number of iterations. Duality gap: 485.1046505631748, tolerance: 15.741403218398531\n",
      "  model = cd_fast.sparse_enet_coordinate_descent(\n",
      "/Users/mathisderenne/opt/anaconda3/envs/streamlit/lib/python3.10/site-packages/sklearn/linear_model/_coordinate_descent.py:592: ConvergenceWarning: Objective did not converge. You might want to increase the number of iterations. Duality gap: 1776.0901677942893, tolerance: 15.273778351565253\n",
      "  model = cd_fast.sparse_enet_coordinate_descent(\n",
      "/Users/mathisderenne/opt/anaconda3/envs/streamlit/lib/python3.10/site-packages/sklearn/linear_model/_coordinate_descent.py:592: ConvergenceWarning: Objective did not converge. You might want to increase the number of iterations. Duality gap: 1607.6777054239792, tolerance: 15.569193585813064\n",
      "  model = cd_fast.sparse_enet_coordinate_descent(\n",
      "/Users/mathisderenne/opt/anaconda3/envs/streamlit/lib/python3.10/site-packages/sklearn/linear_model/_coordinate_descent.py:592: ConvergenceWarning: Objective did not converge. You might want to increase the number of iterations. Duality gap: 1375.1348589361205, tolerance: 14.354157474313988\n",
      "  model = cd_fast.sparse_enet_coordinate_descent(\n",
      "/Users/mathisderenne/opt/anaconda3/envs/streamlit/lib/python3.10/site-packages/sklearn/linear_model/_coordinate_descent.py:592: ConvergenceWarning: Objective did not converge. You might want to increase the number of iterations. Duality gap: 447.8673284315937, tolerance: 14.354157474313988\n",
      "  model = cd_fast.sparse_enet_coordinate_descent(\n",
      "/Users/mathisderenne/opt/anaconda3/envs/streamlit/lib/python3.10/site-packages/sklearn/linear_model/_coordinate_descent.py:592: ConvergenceWarning: Objective did not converge. You might want to increase the number of iterations. Duality gap: 1498.059495295087, tolerance: 15.741403218398531\n",
      "  model = cd_fast.sparse_enet_coordinate_descent(\n",
      "/Users/mathisderenne/opt/anaconda3/envs/streamlit/lib/python3.10/site-packages/sklearn/linear_model/_coordinate_descent.py:592: ConvergenceWarning: Objective did not converge. You might want to increase the number of iterations. Duality gap: 655.2036656990749, tolerance: 22.673102456827777\n",
      "  model = cd_fast.sparse_enet_coordinate_descent(\n",
      "/Users/mathisderenne/opt/anaconda3/envs/streamlit/lib/python3.10/site-packages/sklearn/linear_model/_coordinate_descent.py:592: ConvergenceWarning: Objective did not converge. You might want to increase the number of iterations. Duality gap: 1898.8404721086918, tolerance: 22.673102456827777\n",
      "  model = cd_fast.sparse_enet_coordinate_descent(\n",
      "/Users/mathisderenne/opt/anaconda3/envs/streamlit/lib/python3.10/site-packages/sklearn/linear_model/_coordinate_descent.py:592: ConvergenceWarning: Objective did not converge. You might want to increase the number of iterations. Duality gap: 2238.7941763046438, tolerance: 22.334606760543\n",
      "  model = cd_fast.sparse_enet_coordinate_descent(\n",
      "/Users/mathisderenne/opt/anaconda3/envs/streamlit/lib/python3.10/site-packages/sklearn/linear_model/_coordinate_descent.py:592: ConvergenceWarning: Objective did not converge. You might want to increase the number of iterations. Duality gap: 663.2488019089215, tolerance: 22.754953276808113\n",
      "  model = cd_fast.sparse_enet_coordinate_descent(\n",
      "/Users/mathisderenne/opt/anaconda3/envs/streamlit/lib/python3.10/site-packages/sklearn/linear_model/_coordinate_descent.py:592: ConvergenceWarning: Objective did not converge. You might want to increase the number of iterations. Duality gap: 986.4091479531671, tolerance: 22.001659312496777\n",
      "  model = cd_fast.sparse_enet_coordinate_descent(\n",
      "/Users/mathisderenne/opt/anaconda3/envs/streamlit/lib/python3.10/site-packages/sklearn/linear_model/_coordinate_descent.py:592: ConvergenceWarning: Objective did not converge. You might want to increase the number of iterations. Duality gap: 617.9949622604036, tolerance: 20.724514156054237\n",
      "  model = cd_fast.sparse_enet_coordinate_descent(\n",
      "/Users/mathisderenne/opt/anaconda3/envs/streamlit/lib/python3.10/site-packages/sklearn/linear_model/_coordinate_descent.py:592: ConvergenceWarning: Objective did not converge. You might want to increase the number of iterations. Duality gap: 2048.8952336637303, tolerance: 22.754953276808113\n",
      "  model = cd_fast.sparse_enet_coordinate_descent(\n",
      "/Users/mathisderenne/opt/anaconda3/envs/streamlit/lib/python3.10/site-packages/sklearn/linear_model/_coordinate_descent.py:592: ConvergenceWarning: Objective did not converge. You might want to increase the number of iterations. Duality gap: 619.0712383977407, tolerance: 20.724514156054237\n",
      "  model = cd_fast.sparse_enet_coordinate_descent(\n",
      "/Users/mathisderenne/opt/anaconda3/envs/streamlit/lib/python3.10/site-packages/sklearn/linear_model/_coordinate_descent.py:592: ConvergenceWarning: Objective did not converge. You might want to increase the number of iterations. Duality gap: 332.78648138255267, tolerance: 9.19923624850362\n",
      "  model = cd_fast.sparse_enet_coordinate_descent(\n",
      "/Users/mathisderenne/opt/anaconda3/envs/streamlit/lib/python3.10/site-packages/sklearn/linear_model/_coordinate_descent.py:592: ConvergenceWarning: Objective did not converge. You might want to increase the number of iterations. Duality gap: 932.5724491265446, tolerance: 9.19923624850362\n",
      "  model = cd_fast.sparse_enet_coordinate_descent(\n",
      "/Users/mathisderenne/opt/anaconda3/envs/streamlit/lib/python3.10/site-packages/sklearn/linear_model/_coordinate_descent.py:592: ConvergenceWarning: Objective did not converge. You might want to increase the number of iterations. Duality gap: 880.9059656765639, tolerance: 9.540762428373439\n",
      "  model = cd_fast.sparse_enet_coordinate_descent(\n",
      "/Users/mathisderenne/opt/anaconda3/envs/streamlit/lib/python3.10/site-packages/sklearn/linear_model/_coordinate_descent.py:592: ConvergenceWarning: Objective did not converge. You might want to increase the number of iterations. Duality gap: 374.434377237194, tolerance: 9.618030310335252\n",
      "  model = cd_fast.sparse_enet_coordinate_descent(\n",
      "/Users/mathisderenne/opt/anaconda3/envs/streamlit/lib/python3.10/site-packages/sklearn/linear_model/_coordinate_descent.py:592: ConvergenceWarning: Objective did not converge. You might want to increase the number of iterations. Duality gap: 1347.375478681517, tolerance: 9.42927876807983\n",
      "  model = cd_fast.sparse_enet_coordinate_descent(\n",
      "/Users/mathisderenne/opt/anaconda3/envs/streamlit/lib/python3.10/site-packages/sklearn/linear_model/_coordinate_descent.py:592: ConvergenceWarning: Objective did not converge. You might want to increase the number of iterations. Duality gap: 346.7636706630292, tolerance: 8.857773298753214\n",
      "  model = cd_fast.sparse_enet_coordinate_descent(\n",
      "/Users/mathisderenne/opt/anaconda3/envs/streamlit/lib/python3.10/site-packages/sklearn/linear_model/_coordinate_descent.py:592: ConvergenceWarning: Objective did not converge. You might want to increase the number of iterations. Duality gap: 937.0966698809079, tolerance: 8.857773298753214\n",
      "  model = cd_fast.sparse_enet_coordinate_descent(\n",
      "/Users/mathisderenne/opt/anaconda3/envs/streamlit/lib/python3.10/site-packages/sklearn/linear_model/_coordinate_descent.py:592: ConvergenceWarning: Objective did not converge. You might want to increase the number of iterations. Duality gap: 373.6518093475406, tolerance: 9.618030310335252\n",
      "  model = cd_fast.sparse_enet_coordinate_descent(\n",
      "/Users/mathisderenne/opt/anaconda3/envs/streamlit/lib/python3.10/site-packages/sklearn/linear_model/_coordinate_descent.py:592: ConvergenceWarning: Objective did not converge. You might want to increase the number of iterations. Duality gap: 2687945.1862559896, tolerance: 6387.928191166499\n",
      "  model = cd_fast.sparse_enet_coordinate_descent(\n",
      "/Users/mathisderenne/opt/anaconda3/envs/streamlit/lib/python3.10/site-packages/sklearn/linear_model/_coordinate_descent.py:592: ConvergenceWarning: Objective did not converge. You might want to increase the number of iterations. Duality gap: 2534117.0628481074, tolerance: 6209.4377990025005\n",
      "  model = cd_fast.sparse_enet_coordinate_descent(\n",
      "/Users/mathisderenne/opt/anaconda3/envs/streamlit/lib/python3.10/site-packages/sklearn/linear_model/_coordinate_descent.py:592: ConvergenceWarning: Objective did not converge. You might want to increase the number of iterations. Duality gap: 975936.9864861686, tolerance: 6285.037067451805\n",
      "  model = cd_fast.sparse_enet_coordinate_descent(\n",
      "/Users/mathisderenne/opt/anaconda3/envs/streamlit/lib/python3.10/site-packages/sklearn/linear_model/_coordinate_descent.py:592: ConvergenceWarning: Objective did not converge. You might want to increase the number of iterations. Duality gap: 239951.88662672415, tolerance: 6285.037067451805\n",
      "  model = cd_fast.sparse_enet_coordinate_descent(\n",
      "/Users/mathisderenne/opt/anaconda3/envs/streamlit/lib/python3.10/site-packages/sklearn/linear_model/_coordinate_descent.py:592: ConvergenceWarning: Objective did not converge. You might want to increase the number of iterations. Duality gap: 1107755.878847734, tolerance: 6595.5729758714715\n",
      "  model = cd_fast.sparse_enet_coordinate_descent(\n",
      "/Users/mathisderenne/opt/anaconda3/envs/streamlit/lib/python3.10/site-packages/sklearn/linear_model/_coordinate_descent.py:592: ConvergenceWarning: Objective did not converge. You might want to increase the number of iterations. Duality gap: 1024458.7529322067, tolerance: 6262.1270624217\n",
      "  model = cd_fast.sparse_enet_coordinate_descent(\n",
      "/Users/mathisderenne/opt/anaconda3/envs/streamlit/lib/python3.10/site-packages/sklearn/linear_model/_coordinate_descent.py:592: ConvergenceWarning: Objective did not converge. You might want to increase the number of iterations. Duality gap: 984738.5848012324, tolerance: 6209.4377990025005\n",
      "  model = cd_fast.sparse_enet_coordinate_descent(\n",
      "/Users/mathisderenne/opt/anaconda3/envs/streamlit/lib/python3.10/site-packages/sklearn/linear_model/_coordinate_descent.py:592: ConvergenceWarning: Objective did not converge. You might want to increase the number of iterations. Duality gap: 1064495.8936864361, tolerance: 6387.928191166499\n",
      "  model = cd_fast.sparse_enet_coordinate_descent(\n",
      "/Users/mathisderenne/opt/anaconda3/envs/streamlit/lib/python3.10/site-packages/sklearn/linear_model/_coordinate_descent.py:592: ConvergenceWarning: Objective did not converge. You might want to increase the number of iterations. Duality gap: 504.07217541411046, tolerance: 15.273778351565253\n",
      "  model = cd_fast.sparse_enet_coordinate_descent(\n",
      "/Users/mathisderenne/opt/anaconda3/envs/streamlit/lib/python3.10/site-packages/sklearn/linear_model/_coordinate_descent.py:592: ConvergenceWarning: Objective did not converge. You might want to increase the number of iterations. Duality gap: 433.4923461801536, tolerance: 15.569193585813064\n",
      "  model = cd_fast.sparse_enet_coordinate_descent(\n",
      "/Users/mathisderenne/opt/anaconda3/envs/streamlit/lib/python3.10/site-packages/sklearn/linear_model/_coordinate_descent.py:592: ConvergenceWarning: Objective did not converge. You might want to increase the number of iterations. Duality gap: 257476.59621548653, tolerance: 6595.5729758714715\n",
      "  model = cd_fast.sparse_enet_coordinate_descent(\n",
      "/Users/mathisderenne/opt/anaconda3/envs/streamlit/lib/python3.10/site-packages/sklearn/linear_model/_coordinate_descent.py:592: ConvergenceWarning: Objective did not converge. You might want to increase the number of iterations. Duality gap: 702.7887881669922, tolerance: 22.001659312496777\n",
      "  model = cd_fast.sparse_enet_coordinate_descent(\n",
      "/Users/mathisderenne/opt/anaconda3/envs/streamlit/lib/python3.10/site-packages/sklearn/linear_model/_coordinate_descent.py:592: ConvergenceWarning: Objective did not converge. You might want to increase the number of iterations. Duality gap: 603.4225386952203, tolerance: 22.334606760543\n",
      "  model = cd_fast.sparse_enet_coordinate_descent(\n",
      "/Users/mathisderenne/opt/anaconda3/envs/streamlit/lib/python3.10/site-packages/sklearn/linear_model/_coordinate_descent.py:592: ConvergenceWarning: Objective did not converge. You might want to increase the number of iterations. Duality gap: 321.98531028807156, tolerance: 9.540762428373439\n",
      "  model = cd_fast.sparse_enet_coordinate_descent(\n",
      "/Users/mathisderenne/opt/anaconda3/envs/streamlit/lib/python3.10/site-packages/sklearn/linear_model/_coordinate_descent.py:592: ConvergenceWarning: Objective did not converge. You might want to increase the number of iterations. Duality gap: 382.4723537252012, tolerance: 9.42927876807983\n",
      "  model = cd_fast.sparse_enet_coordinate_descent(\n",
      "/Users/mathisderenne/opt/anaconda3/envs/streamlit/lib/python3.10/site-packages/sklearn/linear_model/_coordinate_descent.py:592: ConvergenceWarning: Objective did not converge. You might want to increase the number of iterations. Duality gap: 1025302.8822493618, tolerance: 6262.1270624217\n",
      "  model = cd_fast.sparse_enet_coordinate_descent(\n",
      "/Users/mathisderenne/opt/anaconda3/envs/streamlit/lib/python3.10/site-packages/sklearn/linear_model/_coordinate_descent.py:592: ConvergenceWarning: Objective did not converge. You might want to increase the number of iterations. Duality gap: 1065350.3002089337, tolerance: 6387.928191166499\n",
      "  model = cd_fast.sparse_enet_coordinate_descent(\n",
      "/Users/mathisderenne/opt/anaconda3/envs/streamlit/lib/python3.10/site-packages/sklearn/linear_model/_coordinate_descent.py:592: ConvergenceWarning: Objective did not converge. You might want to increase the number of iterations. Duality gap: 985561.3992962912, tolerance: 6209.4377990025005\n",
      "  model = cd_fast.sparse_enet_coordinate_descent(\n",
      "/Users/mathisderenne/opt/anaconda3/envs/streamlit/lib/python3.10/site-packages/sklearn/linear_model/_coordinate_descent.py:592: ConvergenceWarning: Objective did not converge. You might want to increase the number of iterations. Duality gap: 1336609.4616957782, tolerance: 7946.236631033885\n",
      "  model = cd_fast.sparse_enet_coordinate_descent(\n"
     ]
    },
    {
     "data": {
      "text/html": [
       "<style>#sk-container-id-1 {color: black;background-color: white;}#sk-container-id-1 pre{padding: 0;}#sk-container-id-1 div.sk-toggleable {background-color: white;}#sk-container-id-1 label.sk-toggleable__label {cursor: pointer;display: block;width: 100%;margin-bottom: 0;padding: 0.3em;box-sizing: border-box;text-align: center;}#sk-container-id-1 label.sk-toggleable__label-arrow:before {content: \"▸\";float: left;margin-right: 0.25em;color: #696969;}#sk-container-id-1 label.sk-toggleable__label-arrow:hover:before {color: black;}#sk-container-id-1 div.sk-estimator:hover label.sk-toggleable__label-arrow:before {color: black;}#sk-container-id-1 div.sk-toggleable__content {max-height: 0;max-width: 0;overflow: hidden;text-align: left;background-color: #f0f8ff;}#sk-container-id-1 div.sk-toggleable__content pre {margin: 0.2em;color: black;border-radius: 0.25em;background-color: #f0f8ff;}#sk-container-id-1 input.sk-toggleable__control:checked~div.sk-toggleable__content {max-height: 200px;max-width: 100%;overflow: auto;}#sk-container-id-1 input.sk-toggleable__control:checked~label.sk-toggleable__label-arrow:before {content: \"▾\";}#sk-container-id-1 div.sk-estimator input.sk-toggleable__control:checked~label.sk-toggleable__label {background-color: #d4ebff;}#sk-container-id-1 div.sk-label input.sk-toggleable__control:checked~label.sk-toggleable__label {background-color: #d4ebff;}#sk-container-id-1 input.sk-hidden--visually {border: 0;clip: rect(1px 1px 1px 1px);clip: rect(1px, 1px, 1px, 1px);height: 1px;margin: -1px;overflow: hidden;padding: 0;position: absolute;width: 1px;}#sk-container-id-1 div.sk-estimator {font-family: monospace;background-color: #f0f8ff;border: 1px dotted black;border-radius: 0.25em;box-sizing: border-box;margin-bottom: 0.5em;}#sk-container-id-1 div.sk-estimator:hover {background-color: #d4ebff;}#sk-container-id-1 div.sk-parallel-item::after {content: \"\";width: 100%;border-bottom: 1px solid gray;flex-grow: 1;}#sk-container-id-1 div.sk-label:hover label.sk-toggleable__label {background-color: #d4ebff;}#sk-container-id-1 div.sk-serial::before {content: \"\";position: absolute;border-left: 1px solid gray;box-sizing: border-box;top: 0;bottom: 0;left: 50%;z-index: 0;}#sk-container-id-1 div.sk-serial {display: flex;flex-direction: column;align-items: center;background-color: white;padding-right: 0.2em;padding-left: 0.2em;position: relative;}#sk-container-id-1 div.sk-item {position: relative;z-index: 1;}#sk-container-id-1 div.sk-parallel {display: flex;align-items: stretch;justify-content: center;background-color: white;position: relative;}#sk-container-id-1 div.sk-item::before, #sk-container-id-1 div.sk-parallel-item::before {content: \"\";position: absolute;border-left: 1px solid gray;box-sizing: border-box;top: 0;bottom: 0;left: 50%;z-index: -1;}#sk-container-id-1 div.sk-parallel-item {display: flex;flex-direction: column;z-index: 1;position: relative;background-color: white;}#sk-container-id-1 div.sk-parallel-item:first-child::after {align-self: flex-end;width: 50%;}#sk-container-id-1 div.sk-parallel-item:last-child::after {align-self: flex-start;width: 50%;}#sk-container-id-1 div.sk-parallel-item:only-child::after {width: 0;}#sk-container-id-1 div.sk-dashed-wrapped {border: 1px dashed gray;margin: 0 0.4em 0.5em 0.4em;box-sizing: border-box;padding-bottom: 0.4em;background-color: white;}#sk-container-id-1 div.sk-label label {font-family: monospace;font-weight: bold;display: inline-block;line-height: 1.2em;}#sk-container-id-1 div.sk-label-container {text-align: center;}#sk-container-id-1 div.sk-container {/* jupyter's `normalize.less` sets `[hidden] { display: none; }` but bootstrap.min.css set `[hidden] { display: none !important; }` so we also need the `!important` here to be able to override the default hidden behavior on the sphinx rendered scikit-learn.org. See: https://github.com/scikit-learn/scikit-learn/issues/21755 */display: inline-block !important;position: relative;}#sk-container-id-1 div.sk-text-repr-fallback {display: none;}</style><div id=\"sk-container-id-1\" class=\"sk-top-container\"><div class=\"sk-text-repr-fallback\"><pre>GridSearchCV(cv=5,\n",
       "             estimator=Pipeline(steps=[(&#x27;preprocessor&#x27;,\n",
       "                                        ColumnTransformer(transformers=[(&#x27;categorical&#x27;,\n",
       "                                                                         OneHotEncoder(handle_unknown=&#x27;ignore&#x27;),\n",
       "                                                                         [&#x27;Make&#x27;,\n",
       "                                                                          &#x27;Vehicle &#x27;\n",
       "                                                                          &#x27;class&#x27;,\n",
       "                                                                          &#x27;Fuel&#x27;,\n",
       "                                                                          &#x27;Transmission&#x27;,\n",
       "                                                                          &#x27;Gears&#x27;]),\n",
       "                                                                        (&#x27;numerical&#x27;,\n",
       "                                                                         StandardScaler(),\n",
       "                                                                         [&#x27;Release &#x27;\n",
       "                                                                          &#x27;year&#x27;,\n",
       "                                                                          &#x27;Engine &#x27;\n",
       "                                                                          &#x27;size &#x27;\n",
       "                                                                          &#x27;(L)&#x27;,\n",
       "                                                                          &#x27;Cylinders&#x27;])])),\n",
       "                                       (&#x27;lasso&#x27;, Lasso(max_iter=10000))]),\n",
       "             n_jobs=-1,\n",
       "             param_grid={&#x27;lasso__alpha&#x27;: array([1.00000000e-06, 4.64158883e-06, 2.15443469e-05, 1.00000000e-04,\n",
       "       4.64158883e-04, 2.15443469e-03, 1.00000000e-02, 4.64158883e-02,\n",
       "       2.15443469e-01, 1.00000000e+00])},\n",
       "             scoring=&#x27;r2&#x27;, verbose=1)</pre><b>In a Jupyter environment, please rerun this cell to show the HTML representation or trust the notebook. <br />On GitHub, the HTML representation is unable to render, please try loading this page with nbviewer.org.</b></div><div class=\"sk-container\" hidden><div class=\"sk-item sk-dashed-wrapped\"><div class=\"sk-label-container\"><div class=\"sk-label sk-toggleable\"><input class=\"sk-toggleable__control sk-hidden--visually\" id=\"sk-estimator-id-1\" type=\"checkbox\" ><label for=\"sk-estimator-id-1\" class=\"sk-toggleable__label sk-toggleable__label-arrow\">GridSearchCV</label><div class=\"sk-toggleable__content\"><pre>GridSearchCV(cv=5,\n",
       "             estimator=Pipeline(steps=[(&#x27;preprocessor&#x27;,\n",
       "                                        ColumnTransformer(transformers=[(&#x27;categorical&#x27;,\n",
       "                                                                         OneHotEncoder(handle_unknown=&#x27;ignore&#x27;),\n",
       "                                                                         [&#x27;Make&#x27;,\n",
       "                                                                          &#x27;Vehicle &#x27;\n",
       "                                                                          &#x27;class&#x27;,\n",
       "                                                                          &#x27;Fuel&#x27;,\n",
       "                                                                          &#x27;Transmission&#x27;,\n",
       "                                                                          &#x27;Gears&#x27;]),\n",
       "                                                                        (&#x27;numerical&#x27;,\n",
       "                                                                         StandardScaler(),\n",
       "                                                                         [&#x27;Release &#x27;\n",
       "                                                                          &#x27;year&#x27;,\n",
       "                                                                          &#x27;Engine &#x27;\n",
       "                                                                          &#x27;size &#x27;\n",
       "                                                                          &#x27;(L)&#x27;,\n",
       "                                                                          &#x27;Cylinders&#x27;])])),\n",
       "                                       (&#x27;lasso&#x27;, Lasso(max_iter=10000))]),\n",
       "             n_jobs=-1,\n",
       "             param_grid={&#x27;lasso__alpha&#x27;: array([1.00000000e-06, 4.64158883e-06, 2.15443469e-05, 1.00000000e-04,\n",
       "       4.64158883e-04, 2.15443469e-03, 1.00000000e-02, 4.64158883e-02,\n",
       "       2.15443469e-01, 1.00000000e+00])},\n",
       "             scoring=&#x27;r2&#x27;, verbose=1)</pre></div></div></div><div class=\"sk-parallel\"><div class=\"sk-parallel-item\"><div class=\"sk-item\"><div class=\"sk-label-container\"><div class=\"sk-label sk-toggleable\"><input class=\"sk-toggleable__control sk-hidden--visually\" id=\"sk-estimator-id-2\" type=\"checkbox\" ><label for=\"sk-estimator-id-2\" class=\"sk-toggleable__label sk-toggleable__label-arrow\">estimator: Pipeline</label><div class=\"sk-toggleable__content\"><pre>Pipeline(steps=[(&#x27;preprocessor&#x27;,\n",
       "                 ColumnTransformer(transformers=[(&#x27;categorical&#x27;,\n",
       "                                                  OneHotEncoder(handle_unknown=&#x27;ignore&#x27;),\n",
       "                                                  [&#x27;Make&#x27;, &#x27;Vehicle class&#x27;,\n",
       "                                                   &#x27;Fuel&#x27;, &#x27;Transmission&#x27;,\n",
       "                                                   &#x27;Gears&#x27;]),\n",
       "                                                 (&#x27;numerical&#x27;, StandardScaler(),\n",
       "                                                  [&#x27;Release year&#x27;,\n",
       "                                                   &#x27;Engine size (L)&#x27;,\n",
       "                                                   &#x27;Cylinders&#x27;])])),\n",
       "                (&#x27;lasso&#x27;, Lasso(max_iter=10000))])</pre></div></div></div><div class=\"sk-serial\"><div class=\"sk-item\"><div class=\"sk-serial\"><div class=\"sk-item sk-dashed-wrapped\"><div class=\"sk-label-container\"><div class=\"sk-label sk-toggleable\"><input class=\"sk-toggleable__control sk-hidden--visually\" id=\"sk-estimator-id-3\" type=\"checkbox\" ><label for=\"sk-estimator-id-3\" class=\"sk-toggleable__label sk-toggleable__label-arrow\">preprocessor: ColumnTransformer</label><div class=\"sk-toggleable__content\"><pre>ColumnTransformer(transformers=[(&#x27;categorical&#x27;,\n",
       "                                 OneHotEncoder(handle_unknown=&#x27;ignore&#x27;),\n",
       "                                 [&#x27;Make&#x27;, &#x27;Vehicle class&#x27;, &#x27;Fuel&#x27;,\n",
       "                                  &#x27;Transmission&#x27;, &#x27;Gears&#x27;]),\n",
       "                                (&#x27;numerical&#x27;, StandardScaler(),\n",
       "                                 [&#x27;Release year&#x27;, &#x27;Engine size (L)&#x27;,\n",
       "                                  &#x27;Cylinders&#x27;])])</pre></div></div></div><div class=\"sk-parallel\"><div class=\"sk-parallel-item\"><div class=\"sk-item\"><div class=\"sk-label-container\"><div class=\"sk-label sk-toggleable\"><input class=\"sk-toggleable__control sk-hidden--visually\" id=\"sk-estimator-id-4\" type=\"checkbox\" ><label for=\"sk-estimator-id-4\" class=\"sk-toggleable__label sk-toggleable__label-arrow\">categorical</label><div class=\"sk-toggleable__content\"><pre>[&#x27;Make&#x27;, &#x27;Vehicle class&#x27;, &#x27;Fuel&#x27;, &#x27;Transmission&#x27;, &#x27;Gears&#x27;]</pre></div></div></div><div class=\"sk-serial\"><div class=\"sk-item\"><div class=\"sk-estimator sk-toggleable\"><input class=\"sk-toggleable__control sk-hidden--visually\" id=\"sk-estimator-id-5\" type=\"checkbox\" ><label for=\"sk-estimator-id-5\" class=\"sk-toggleable__label sk-toggleable__label-arrow\">OneHotEncoder</label><div class=\"sk-toggleable__content\"><pre>OneHotEncoder(handle_unknown=&#x27;ignore&#x27;)</pre></div></div></div></div></div></div><div class=\"sk-parallel-item\"><div class=\"sk-item\"><div class=\"sk-label-container\"><div class=\"sk-label sk-toggleable\"><input class=\"sk-toggleable__control sk-hidden--visually\" id=\"sk-estimator-id-6\" type=\"checkbox\" ><label for=\"sk-estimator-id-6\" class=\"sk-toggleable__label sk-toggleable__label-arrow\">numerical</label><div class=\"sk-toggleable__content\"><pre>[&#x27;Release year&#x27;, &#x27;Engine size (L)&#x27;, &#x27;Cylinders&#x27;]</pre></div></div></div><div class=\"sk-serial\"><div class=\"sk-item\"><div class=\"sk-estimator sk-toggleable\"><input class=\"sk-toggleable__control sk-hidden--visually\" id=\"sk-estimator-id-7\" type=\"checkbox\" ><label for=\"sk-estimator-id-7\" class=\"sk-toggleable__label sk-toggleable__label-arrow\">StandardScaler</label><div class=\"sk-toggleable__content\"><pre>StandardScaler()</pre></div></div></div></div></div></div></div></div><div class=\"sk-item\"><div class=\"sk-estimator sk-toggleable\"><input class=\"sk-toggleable__control sk-hidden--visually\" id=\"sk-estimator-id-8\" type=\"checkbox\" ><label for=\"sk-estimator-id-8\" class=\"sk-toggleable__label sk-toggleable__label-arrow\">Lasso</label><div class=\"sk-toggleable__content\"><pre>Lasso(max_iter=10000)</pre></div></div></div></div></div></div></div></div></div></div></div></div>"
      ],
      "text/plain": [
       "GridSearchCV(cv=5,\n",
       "             estimator=Pipeline(steps=[('preprocessor',\n",
       "                                        ColumnTransformer(transformers=[('categorical',\n",
       "                                                                         OneHotEncoder(handle_unknown='ignore'),\n",
       "                                                                         ['Make',\n",
       "                                                                          'Vehicle '\n",
       "                                                                          'class',\n",
       "                                                                          'Fuel',\n",
       "                                                                          'Transmission',\n",
       "                                                                          'Gears']),\n",
       "                                                                        ('numerical',\n",
       "                                                                         StandardScaler(),\n",
       "                                                                         ['Release '\n",
       "                                                                          'year',\n",
       "                                                                          'Engine '\n",
       "                                                                          'size '\n",
       "                                                                          '(L)',\n",
       "                                                                          'Cylinders'])])),\n",
       "                                       ('lasso', Lasso(max_iter=10000))]),\n",
       "             n_jobs=-1,\n",
       "             param_grid={'lasso__alpha': array([1.00000000e-06, 4.64158883e-06, 2.15443469e-05, 1.00000000e-04,\n",
       "       4.64158883e-04, 2.15443469e-03, 1.00000000e-02, 4.64158883e-02,\n",
       "       2.15443469e-01, 1.00000000e+00])},\n",
       "             scoring='r2', verbose=1)"
      ]
     },
     "execution_count": 8,
     "metadata": {},
     "output_type": "execute_result"
    }
   ],
   "source": [
    "from sklearn.model_selection import GridSearchCV\n",
    "\n",
    "grid = GridSearchCV(pipeline, param_grid = param, cv=5, verbose=1, n_jobs=-1, scoring = 'r2', refit = True)\n",
    "grid.fit(X, Y)"
   ]
  },
  {
   "cell_type": "code",
   "execution_count": 12,
   "metadata": {},
   "outputs": [
    {
     "name": "stdout",
     "output_type": "stream",
     "text": [
      "Fitting completed :\n",
      "Best parameters are {'lasso__alpha': 2.1544346900318823e-05}\n",
      "With r2 score of 0.776\n",
      "> Interpretation : the model is able to explain 78% of the variance in the data. \n",
      "\n"
     ]
    }
   ],
   "source": [
    "print(f\"\"\"Fitting completed :\n",
    "Best parameters are {grid.best_params_}\n",
    "With r2 score of {round(grid.best_score_, 3)}\n",
    "> Interpretation : the model is able to explain {round(grid.best_score_ * 100)}% of the variance in the data. \n",
    "\"\"\")"
   ]
  },
  {
   "cell_type": "code",
   "execution_count": 10,
   "metadata": {},
   "outputs": [
    {
     "data": {
      "text/plain": [
       "dict_keys(['mean_fit_time', 'std_fit_time', 'mean_score_time', 'std_score_time', 'param_lasso__alpha', 'params', 'split0_test_score', 'split1_test_score', 'split2_test_score', 'split3_test_score', 'split4_test_score', 'mean_test_score', 'std_test_score', 'rank_test_score'])"
      ]
     },
     "execution_count": 10,
     "metadata": {},
     "output_type": "execute_result"
    }
   ],
   "source": [
    "grid.cv_results_.keys()"
   ]
  },
  {
   "cell_type": "code",
   "execution_count": 11,
   "metadata": {},
   "outputs": [],
   "source": [
    "# Saving model \n",
    "import joblib\n",
    "\n",
    "# joblib.dump(grid.best_estimator_, 'prediction_model.pkl')"
   ]
  }
 ],
 "metadata": {
  "kernelspec": {
   "display_name": "streamlit",
   "language": "python",
   "name": "python3"
  },
  "language_info": {
   "codemirror_mode": {
    "name": "ipython",
    "version": 3
   },
   "file_extension": ".py",
   "mimetype": "text/x-python",
   "name": "python",
   "nbconvert_exporter": "python",
   "pygments_lexer": "ipython3",
   "version": "3.10.9"
  },
  "orig_nbformat": 4,
  "vscode": {
   "interpreter": {
    "hash": "f433cee6efbc47c6089c6c5913bf9f9acbafe890209a746bcd45e5a156a481f3"
   }
  }
 },
 "nbformat": 4,
 "nbformat_minor": 2
}
